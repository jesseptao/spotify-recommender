{
 "cells": [
  {
   "cell_type": "markdown",
   "metadata": {},
   "source": [
    "# Getting New Releases from Everynoise"
   ]
  },
  {
   "cell_type": "code",
   "execution_count": 1,
   "metadata": {},
   "outputs": [],
   "source": [
    "# import library\n",
    "from everynoise import get_new_songs"
   ]
  },
  {
   "cell_type": "code",
   "execution_count": 2,
   "metadata": {},
   "outputs": [
    {
     "data": {
      "text/html": [
       "<div>\n",
       "<style scoped>\n",
       "    .dataframe tbody tr th:only-of-type {\n",
       "        vertical-align: middle;\n",
       "    }\n",
       "\n",
       "    .dataframe tbody tr th {\n",
       "        vertical-align: top;\n",
       "    }\n",
       "\n",
       "    .dataframe thead th {\n",
       "        text-align: right;\n",
       "    }\n",
       "</style>\n",
       "<table border=\"1\" class=\"dataframe\">\n",
       "  <thead>\n",
       "    <tr style=\"text-align: right;\">\n",
       "      <th></th>\n",
       "      <th>artist_uri</th>\n",
       "      <th>artist</th>\n",
       "      <th>track_uri</th>\n",
       "      <th>track_name</th>\n",
       "    </tr>\n",
       "  </thead>\n",
       "  <tbody>\n",
       "    <tr>\n",
       "      <th>0</th>\n",
       "      <td>spotify:artist:2tIP7SsRs7vjIcLrU85W8J</td>\n",
       "      <td>The Kid LAROI</td>\n",
       "      <td>spotify:track:3ig7SLurMJy1Z8l2bj9yZH</td>\n",
       "      <td>Without You (Boy Dunno Remix)</td>\n",
       "    </tr>\n",
       "    <tr>\n",
       "      <th>1</th>\n",
       "      <td>spotify:artist:3hcs9uc56yIGFCSy9leWe7</td>\n",
       "      <td>Lil Durk</td>\n",
       "      <td>spotify:track:7EqKpYaxDbPrzSCIdAAUDF</td>\n",
       "      <td>Love You Too (feat. Kehlani)</td>\n",
       "    </tr>\n",
       "    <tr>\n",
       "      <th>2</th>\n",
       "      <td>spotify:artist:6AgTAQt8XS6jRWi4sX7w49</td>\n",
       "      <td>Polo G</td>\n",
       "      <td>spotify:track:1A8990rtwHQ417l3yADe5t</td>\n",
       "      <td>GNF (OKOKOK)</td>\n",
       "    </tr>\n",
       "    <tr>\n",
       "      <th>3</th>\n",
       "      <td>spotify:artist:7c0XG5cIJTrrAgEC3ULPiq</td>\n",
       "      <td>Ty Dolla $ign</td>\n",
       "      <td>spotify:track:0vyPhRSQZuNc9VZpb1FZeU</td>\n",
       "      <td>By Yourself (feat. Jhené Aiko &amp; Mustard)</td>\n",
       "    </tr>\n",
       "    <tr>\n",
       "      <th>4</th>\n",
       "      <td>spotify:artist:718COspgdWOnwOFpJHRZHS</td>\n",
       "      <td>Luke Combs</td>\n",
       "      <td>spotify:track:3q3lSbfT5BnQlIvGwahgAD</td>\n",
       "      <td>The Great Divide</td>\n",
       "    </tr>\n",
       "  </tbody>\n",
       "</table>\n",
       "</div>"
      ],
      "text/plain": [
       "                              artist_uri         artist  \\\n",
       "0  spotify:artist:2tIP7SsRs7vjIcLrU85W8J  The Kid LAROI   \n",
       "1  spotify:artist:3hcs9uc56yIGFCSy9leWe7       Lil Durk   \n",
       "2  spotify:artist:6AgTAQt8XS6jRWi4sX7w49         Polo G   \n",
       "3  spotify:artist:7c0XG5cIJTrrAgEC3ULPiq  Ty Dolla $ign   \n",
       "4  spotify:artist:718COspgdWOnwOFpJHRZHS     Luke Combs   \n",
       "\n",
       "                              track_uri  \\\n",
       "0  spotify:track:3ig7SLurMJy1Z8l2bj9yZH   \n",
       "1  spotify:track:7EqKpYaxDbPrzSCIdAAUDF   \n",
       "2  spotify:track:1A8990rtwHQ417l3yADe5t   \n",
       "3  spotify:track:0vyPhRSQZuNc9VZpb1FZeU   \n",
       "4  spotify:track:3q3lSbfT5BnQlIvGwahgAD   \n",
       "\n",
       "                                 track_name  \n",
       "0             Without You (Boy Dunno Remix)  \n",
       "1              Love You Too (feat. Kehlani)  \n",
       "2                              GNF (OKOKOK)  \n",
       "3  By Yourself (feat. Jhené Aiko & Mustard)  \n",
       "4                          The Great Divide  "
      ]
     },
     "execution_count": 2,
     "metadata": {},
     "output_type": "execute_result"
    }
   ],
   "source": [
    "# get new song\n",
    "tracks = get_new_songs('http://everynoise.com/new_releases_by_genre.cgi?genre=anygenre&region=US')\n",
    "tracks.head()"
   ]
  },
  {
   "cell_type": "code",
   "execution_count": 3,
   "metadata": {},
   "outputs": [],
   "source": [
    "# save to csv to use later\n",
    "tracks.to_csv('../data/new_tracks.csv', index = False)"
   ]
  }
 ],
 "metadata": {
  "kernelspec": {
   "display_name": "Python 3",
   "language": "python",
   "name": "python3"
  },
  "language_info": {
   "codemirror_mode": {
    "name": "ipython",
    "version": 3
   },
   "file_extension": ".py",
   "mimetype": "text/x-python",
   "name": "python",
   "nbconvert_exporter": "python",
   "pygments_lexer": "ipython3",
   "version": "3.8.5"
  }
 },
 "nbformat": 4,
 "nbformat_minor": 4
}
